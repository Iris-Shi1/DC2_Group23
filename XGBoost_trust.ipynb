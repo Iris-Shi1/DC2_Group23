{
 "cells": [
  {
   "cell_type": "code",
   "execution_count": 12,
   "id": "fe683a7d",
   "metadata": {},
   "outputs": [],
   "source": [
    "import pandas as pd\n",
    "import numpy as np\n",
    "from tqdm import tqdm\n",
    "import xgboost as xgb\n",
    "import matplotlib.pyplot as plt\n",
    "from sklearn.model_selection import train_test_split\n",
    "from sklearn.metrics import mean_squared_error"
   ]
  },
  {
   "cell_type": "code",
   "execution_count": 13,
   "id": "930d6593",
   "metadata": {},
   "outputs": [],
   "source": [
    "df = pd.read_csv('PAS+crime+extra_final.csv')"
   ]
  },
  {
   "cell_type": "code",
   "execution_count": 14,
   "id": "6b094ced",
   "metadata": {},
   "outputs": [
    {
     "data": {
      "text/plain": [
       "75912"
      ]
     },
     "execution_count": 14,
     "metadata": {},
     "output_type": "execute_result"
    }
   ],
   "source": [
    "df.shape[0]"
   ]
  },
  {
   "cell_type": "code",
   "execution_count": 15,
   "id": "ac218958",
   "metadata": {},
   "outputs": [
    {
     "name": "stdout",
     "output_type": "stream",
     "text": [
      "75664\n"
     ]
    }
   ],
   "source": [
    "df.dropna(subset=['NQ135BD'], inplace=True)\n",
    "df = df[df['NQ135BD'] < 95]\n",
    "print(df.shape[0])"
   ]
  },
  {
   "cell_type": "code",
   "execution_count": 16,
   "id": "f874ee36",
   "metadata": {},
   "outputs": [
    {
     "name": "stdout",
     "output_type": "stream",
     "text": [
      "75664\n",
      "599\n"
     ]
    }
   ],
   "source": [
    "columns_to_drop = df.filter(regex='^WT_').columns\n",
    "df = df.drop(columns=columns_to_drop)\n",
    "print(df.shape[0])\n",
    "print(df.shape[1])"
   ]
  },
  {
   "cell_type": "code",
   "execution_count": 17,
   "id": "aad9c03f",
   "metadata": {},
   "outputs": [],
   "source": [
    "# Define features and target\n",
    "X = df.drop(columns='NQ135BD')\n",
    "y = df['NQ135BD']"
   ]
  },
  {
   "cell_type": "code",
   "execution_count": 18,
   "id": "87eb3255",
   "metadata": {},
   "outputs": [
    {
     "name": "stdout",
     "output_type": "stream",
     "text": [
      "[0]\ttrain-rmse:0.78575\ttest-rmse:0.76996\n",
      "[10]\ttrain-rmse:0.60208\ttest-rmse:0.61944\n",
      "[20]\ttrain-rmse:0.57791\ttest-rmse:0.61341\n",
      "[30]\ttrain-rmse:0.56044\ttest-rmse:0.61243\n",
      "[34]\ttrain-rmse:0.55549\ttest-rmse:0.61231\n",
      "RMSE on test set: 0.612433166208974\n"
     ]
    }
   ],
   "source": [
    "# Split the data into training and testing sets\n",
    "X_train, X_test, y_train, y_test = train_test_split(X, y, test_size=0.2, random_state=42)\n",
    "\n",
    "# Define the parameters for XGBoost\n",
    "params = {\n",
    "    'objective': 'reg:squarederror',  # Use squared error for regression task\n",
    "    'random_state': 42\n",
    "}\n",
    "\n",
    "# Convert training data into DMatrix format for XGBoost\n",
    "dtrain = xgb.DMatrix(X_train, label=y_train)\n",
    "\n",
    "# Convert testing data into DMatrix format for XGBoost\n",
    "dtest = xgb.DMatrix(X_test, label=y_test)\n",
    "\n",
    "# Number of boosting rounds\n",
    "num_boost_round = 100\n",
    "\n",
    "# Train the model and print the progress of boosting rounds\n",
    "evals_result = {}\n",
    "model = xgb.train(params, dtrain, num_boost_round=num_boost_round,\n",
    "                  evals=[(dtrain, 'train'), (dtest, 'test')],\n",
    "                  early_stopping_rounds=10, verbose_eval=10, evals_result=evals_result)\n",
    "\n",
    "# Make predictions on the test set\n",
    "y_pred = model.predict(dtest)\n",
    "\n",
    "# Calculate and print RMSE (Root Mean Squared Error) on the test set\n",
    "rmse = mean_squared_error(y_test, y_pred, squared=False)\n",
    "print(\"RMSE on test set:\", rmse)\n"
   ]
  },
  {
   "cell_type": "code",
   "execution_count": 19,
   "id": "a207a4ff",
   "metadata": {},
   "outputs": [
    {
     "name": "stderr",
     "output_type": "stream",
     "text": [
      "Calculating Permutation Importance: 100%|█████| 598/598 [30:41<00:00,  3.08s/it]"
     ]
    },
    {
     "name": "stdout",
     "output_type": "stream",
     "text": [
      "Top 20 Feature Importance:\n",
      "selfemployed_number: 0.0002\n",
      "Q54C: 0.0002\n",
      "Q39BD: 0.0001\n",
      "Black: 0.0001\n",
      "Q10D: 0.0001\n",
      "Vehicle crime: 0.0001\n",
      "NQ135BB: 0.0001\n",
      "ZQ10E: 0.0001\n",
      "NQ2G: 0.0001\n",
      "SQ79DF: 0.0001\n",
      "NQ135BN: 0.0001\n",
      "Public order: 0.0001\n",
      "ReQ139: 0.0001\n",
      "Q10H: 0.0001\n",
      "XQ106B: 0.0001\n",
      "TQ132: 0.0001\n",
      "XQ128A2A: 0.0001\n",
      "SQ79EH: 0.0001\n",
      "NQCV27: 0.0001\n",
      "Robbery: 0.0001\n"
     ]
    },
    {
     "name": "stderr",
     "output_type": "stream",
     "text": [
      "\n"
     ]
    }
   ],
   "source": [
    "# Compute baseline RMSE\n",
    "baseline_rmse = rmse\n",
    "\n",
    "# Initialize an empty array to store permutation importances\n",
    "perm_importances = np.zeros(X_test.shape[1])\n",
    "\n",
    "# Set random seed for reproducibility\n",
    "np.random.seed(42)\n",
    "\n",
    "# Number of permutations\n",
    "n_permutations = 10\n",
    "\n",
    "# Iterate over each feature\n",
    "for i in tqdm(range(X_test.shape[1]), desc=\"Calculating Permutation Importance\"):\n",
    "    perm_importances_temp = []\n",
    "    for _ in range(n_permutations):\n",
    "        # Make a copy of the test data\n",
    "        X_test_permuted = X_test.copy()\n",
    "        # Permute the values of the current feature\n",
    "        X_test_permuted.iloc[:, i] = np.random.permutation(X_test_permuted.iloc[:, i])\n",
    "        # Make predictions on the permuted data\n",
    "        y_pred_permuted = model.predict(xgb.DMatrix(X_test_permuted))\n",
    "        # Compute RMSE on the permuted data\n",
    "        permuted_rmse = mean_squared_error(y_test, y_pred_permuted, squared=False)\n",
    "        # Compute permutation importance for the current feature\n",
    "        perm_importance = baseline_rmse - permuted_rmse\n",
    "        # Store the permutation importance\n",
    "        perm_importances_temp.append(perm_importance)\n",
    "    # Average the permutation importance over multiple permutations\n",
    "    perm_importances[i] = np.mean(perm_importances_temp)\n",
    "\n",
    "# Sort the permutation importances\n",
    "sorted_idx = np.argsort(perm_importances)[::-1]\n",
    "\n",
    "# Print the top 20 features by permutation importance\n",
    "print(\"Top 20 Feature Importance:\")\n",
    "for i in sorted_idx[:20]:\n",
    "    print(f\"{X.columns[i]}: {perm_importances[i]:.4f}\")\n"
   ]
  },
  {
   "cell_type": "code",
   "execution_count": 20,
   "id": "669c1dd4",
   "metadata": {},
   "outputs": [
    {
     "name": "stdout",
     "output_type": "stream",
     "text": [
      "[0]\ttrain-rmse:0.87056\ttest-rmse:0.85220\n",
      "[10]\ttrain-rmse:0.83875\ttest-rmse:0.83626\n",
      "[20]\ttrain-rmse:0.82709\ttest-rmse:0.83627\n",
      "[21]\ttrain-rmse:0.82567\ttest-rmse:0.83634\n",
      "RMSE on test set with top features: 0.836292384020747\n"
     ]
    }
   ],
   "source": [
    "# Select the top 20 most important features\n",
    "top_features = X.columns[sorted_idx[:20]]\n",
    "\n",
    "# Create a new DataFrame with only the top features\n",
    "X_train_top = X_train[top_features]\n",
    "X_test_top = X_test[top_features]\n",
    "\n",
    "# Retrain the model using only the top features\n",
    "dtrain_top = xgb.DMatrix(X_train_top, label=y_train)\n",
    "dtest_top = xgb.DMatrix(X_test_top, label=y_test)\n",
    "\n",
    "model_top = xgb.train(params, dtrain_top, num_boost_round=num_boost_round,\n",
    "                      evals=[(dtrain_top, 'train'), (dtest_top, 'test')],\n",
    "                      early_stopping_rounds=10, verbose_eval=10, evals_result=evals_result)\n",
    "\n",
    "# Make predictions on the test set with the top features\n",
    "y_pred_top = model_top.predict(dtest_top)\n",
    "\n",
    "# Calculate and print RMSE on the test set with the top features\n",
    "rmse_top = mean_squared_error(y_test, y_pred_top, squared=False)\n",
    "print(\"RMSE on test set with top features:\", rmse_top)"
   ]
  },
  {
   "cell_type": "code",
   "execution_count": 21,
   "id": "cc9f7beb",
   "metadata": {},
   "outputs": [
    {
     "data": {
      "image/png": "[encoded data removed]",
      "text/plain": [
       "<Figure size 1000x600 with 1 Axes>"
      ]
     },
     "metadata": {},
     "output_type": "display_data"
    },
    {
     "name": "stdout",
     "output_type": "stream",
     "text": [
      "                Feature  Importance\n",
      "5         Vehicle crime       163.0\n",
      "19              Robbery       158.0\n",
      "11         Public order       150.0\n",
      "0   selfemployed_number       150.0\n",
      "3                 Black       103.0\n",
      "1                  Q54C        94.0\n",
      "6               NQ135BB        68.0\n",
      "7                 ZQ10E        54.0\n",
      "18               NQCV27        48.0\n",
      "2                 Q39BD        47.0\n",
      "16             XQ128A2A        45.0\n",
      "12               ReQ139        42.0\n",
      "9                SQ79DF        34.0\n",
      "17               SQ79EH        29.0\n",
      "4                  Q10D        28.0\n",
      "15                TQ132        28.0\n",
      "8                  NQ2G        24.0\n",
      "13                 Q10H        24.0\n",
      "10              NQ135BN        10.0\n",
      "14               XQ106B         6.0\n"
     ]
    }
   ],
   "source": [
    "# Get feature importance scores\n",
    "feature_importance = model_top.get_score(importance_type='weight')\n",
    "\n",
    "# Convert to DataFrame for better visualization\n",
    "importance_df = pd.DataFrame({\n",
    "    'Feature': list(feature_importance.keys()),\n",
    "    'Importance': list(feature_importance.values())\n",
    "})\n",
    "\n",
    "# Sort by importance\n",
    "importance_df = importance_df.sort_values(by='Importance', ascending=False)\n",
    "\n",
    "# Plot feature importance\n",
    "plt.figure(figsize=(10, 6))\n",
    "plt.barh(importance_df['Feature'], importance_df['Importance'])\n",
    "plt.xlabel('Importance')\n",
    "plt.ylabel('Feature')\n",
    "plt.title('Feature Importance with Top 20 Features')\n",
    "plt.gca().invert_yaxis()\n",
    "plt.show()\n",
    "\n",
    "# Print feature importance\n",
    "print(importance_df)"
   ]
  },
  {
   "cell_type": "code",
   "execution_count": null,
   "id": "8bbce255",
   "metadata": {},
   "outputs": [],
   "source": []
  }
 ],
 "metadata": {
  "kernelspec": {
   "display_name": "Python 3 (ipykernel)",
   "language": "python",
   "name": "python3"
  },
  "language_info": {
   "codemirror_mode": {
    "name": "ipython",
    "version": 3
   },
   "file_extension": ".py",
   "mimetype": "text/x-python",
   "name": "python",
   "nbconvert_exporter": "python",
   "pygments_lexer": "ipython3",
   "version": "3.10.9"
  }
 },
 "nbformat": 4,
 "nbformat_minor": 5
}
