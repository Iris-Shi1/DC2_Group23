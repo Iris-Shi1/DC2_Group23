{
 "cells": [
  {
   "cell_type": "code",
   "execution_count": 14,
   "id": "86751145",
   "metadata": {},
   "outputs": [],
   "source": [
    "import pandas as pd\n",
    "import numpy as np\n",
    "from tqdm import tqdm\n",
    "import xgboost as xgb\n",
    "from sklearn.model_selection import train_test_split\n",
    "from sklearn.metrics import mean_squared_error"
   ]
  },
  {
   "cell_type": "code",
   "execution_count": 15,
   "id": "e0ad3339",
   "metadata": {},
   "outputs": [],
   "source": [
    "df = pd.read_csv('PAS+crime+extra_final.csv')"
   ]
  },
  {
   "cell_type": "code",
   "execution_count": 16,
   "id": "4bb66bd8",
   "metadata": {},
   "outputs": [
    {
     "data": {
      "text/plain": [
       "75912"
      ]
     },
     "execution_count": 16,
     "metadata": {},
     "output_type": "execute_result"
    }
   ],
   "source": [
    "df.shape[0]"
   ]
  },
  {
   "cell_type": "code",
   "execution_count": 17,
   "id": "f1a1a531",
   "metadata": {},
   "outputs": [
    {
     "name": "stdout",
     "output_type": "stream",
     "text": [
      "73124\n"
     ]
    }
   ],
   "source": [
    "df.dropna(subset=['Q60'], inplace=True)\n",
    "df = df[df['Q60'] < 95]\n",
    "print(df.shape[0])"
   ]
  },
  {
   "cell_type": "code",
   "execution_count": 18,
   "id": "9c1dc225",
   "metadata": {},
   "outputs": [],
   "source": [
    "# Define features and target\n",
    "X = df.drop(columns='Q60')\n",
    "y = df['Q60']"
   ]
  },
  {
   "cell_type": "code",
   "execution_count": 19,
   "id": "fd6ce10e",
   "metadata": {},
   "outputs": [
    {
     "name": "stdout",
     "output_type": "stream",
     "text": [
      "[0]\ttrain-rmse:0.71611\ttest-rmse:0.72859\n",
      "[10]\ttrain-rmse:0.53781\ttest-rmse:0.57515\n",
      "[20]\ttrain-rmse:0.51938\ttest-rmse:0.57224\n",
      "[30]\ttrain-rmse:0.50881\ttest-rmse:0.57165\n",
      "[40]\ttrain-rmse:0.49697\ttest-rmse:0.57193\n",
      "[45]\ttrain-rmse:0.49280\ttest-rmse:0.57201\n",
      "RMSE on test set: 0.5720122701371951\n"
     ]
    }
   ],
   "source": [
    "# Split the data into training and testing sets\n",
    "X_train, X_test, y_train, y_test = train_test_split(X, y, test_size=0.2, random_state=42)\n",
    "\n",
    "# Define the parameters for XGBoost\n",
    "params = {\n",
    "    'objective': 'reg:squarederror',  # Use squared error for regression task\n",
    "    'random_state': 42\n",
    "}\n",
    "\n",
    "# Convert training data into DMatrix format for XGBoost\n",
    "dtrain = xgb.DMatrix(X_train, label=y_train)\n",
    "\n",
    "# Convert testing data into DMatrix format for XGBoost\n",
    "dtest = xgb.DMatrix(X_test, label=y_test)\n",
    "\n",
    "# Number of boosting rounds\n",
    "num_boost_round = 100\n",
    "\n",
    "# Train the model and print the progress of boosting rounds\n",
    "evals_result = {}\n",
    "model = xgb.train(params, dtrain, num_boost_round=num_boost_round,\n",
    "                  evals=[(dtrain, 'train'), (dtest, 'test')],\n",
    "                  early_stopping_rounds=10, verbose_eval=10, evals_result=evals_result)\n",
    "\n",
    "# Make predictions on the test set\n",
    "y_pred = model.predict(dtest)\n",
    "\n",
    "# Calculate and print RMSE (Root Mean Squared Error) on the test set\n",
    "rmse = mean_squared_error(y_test, y_pred, squared=False)\n",
    "print(\"RMSE on test set:\", rmse)\n"
   ]
  },
  {
   "cell_type": "code",
   "execution_count": 20,
   "id": "3f99f160",
   "metadata": {},
   "outputs": [
    {
     "name": "stderr",
     "output_type": "stream",
     "text": [
      "Calculating Permutation Importance: 100%|█████| 670/670 [05:03<00:00,  2.21it/s]"
     ]
    },
    {
     "name": "stdout",
     "output_type": "stream",
     "text": [
      "Top 20 Feature Importance:\n",
      "WT_Q63_B: 0.0003\n",
      "SQ79DB: 0.0003\n",
      "NQ135BDE: 0.0002\n",
      "WT_Q58: 0.0002\n",
      "XQ122A: 0.0002\n",
      "NQCV28: 0.0002\n",
      "Violence and sexual offences: 0.0002\n",
      "XQ128A2B: 0.0001\n",
      "WT_Q62: 0.0001\n",
      "WT_Q64_B: 0.0001\n",
      "NNQ27E: 0.0001\n",
      "Q141: 0.0001\n",
      "Borough: 0.0001\n",
      "Vehicle crime: 0.0001\n",
      "WT_Q44_E: 0.0001\n",
      "NQCV7: 0.0001\n",
      "Q62TI: 0.0001\n",
      "WT_Q45_B: 0.0001\n",
      "SQ132K: 0.0001\n",
      "NQCV1: 0.0001\n"
     ]
    },
    {
     "name": "stderr",
     "output_type": "stream",
     "text": [
      "\n"
     ]
    }
   ],
   "source": [
    "# Compute baseline RMSE\n",
    "baseline_rmse = rmse\n",
    "\n",
    "# Initialize an empty array to store permutation importances\n",
    "perm_importances = np.zeros(X_test.shape[1])\n",
    "\n",
    "# Iterate over each feature\n",
    "for i in tqdm(range(X_test.shape[1]), desc=\"Calculating Permutation Importance\"):\n",
    "    # Make a copy of the test data\n",
    "    X_test_permuted = X_test.copy()\n",
    "    # Permute the values of the current feature\n",
    "    X_test_permuted.iloc[:, i] = np.random.permutation(X_test_permuted.iloc[:, i])\n",
    "    # Make predictions on the permuted data\n",
    "    y_pred_permuted = model.predict(xgb.DMatrix(X_test_permuted))\n",
    "    # Compute RMSE on the permuted data\n",
    "    permuted_rmse = mean_squared_error(y_test, y_pred_permuted, squared=False)\n",
    "    # Compute permutation importance for the current feature\n",
    "    perm_importance = baseline_rmse - permuted_rmse\n",
    "    # Store the permutation importance\n",
    "    perm_importances[i] = perm_importance\n",
    "\n",
    "# Sort the permutation importances\n",
    "sorted_idx = np.argsort(perm_importances)[::-1]\n",
    "\n",
    "# Print the top 20 features by permutation importance\n",
    "print(\"Top 20 Feature Importance:\")\n",
    "for i in sorted_idx[:20]:\n",
    "    print(f\"{X.columns[i]}: {perm_importances[i]:.4f}\")\n"
   ]
  },
  {
   "cell_type": "code",
   "execution_count": null,
   "id": "0e684f7d",
   "metadata": {},
   "outputs": [],
   "source": []
  }
 ],
 "metadata": {
  "kernelspec": {
   "display_name": "Python 3 (ipykernel)",
   "language": "python",
   "name": "python3"
  },
  "language_info": {
   "codemirror_mode": {
    "name": "ipython",
    "version": 3
   },
   "file_extension": ".py",
   "mimetype": "text/x-python",
   "name": "python",
   "nbconvert_exporter": "python",
   "pygments_lexer": "ipython3",
   "version": "3.10.9"
  }
 },
 "nbformat": 4,
 "nbformat_minor": 5
}
