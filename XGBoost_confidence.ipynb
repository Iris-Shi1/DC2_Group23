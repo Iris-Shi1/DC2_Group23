{
 "cells": [
  {
   "cell_type": "code",
   "execution_count": 12,
   "id": "86751145",
   "metadata": {},
   "outputs": [],
   "source": [
    "import pandas as pd\n",
    "import numpy as np\n",
    "from tqdm import tqdm\n",
    "import xgboost as xgb\n",
    "import matplotlib.pyplot as plt\n",
    "from sklearn.model_selection import train_test_split\n",
    "from sklearn.metrics import mean_squared_error"
   ]
  },
  {
   "cell_type": "code",
   "execution_count": 13,
   "id": "e0ad3339",
   "metadata": {},
   "outputs": [],
   "source": [
    "df = pd.read_csv('PAS+crime+extra_final.csv')"
   ]
  },
  {
   "cell_type": "code",
   "execution_count": 14,
   "id": "4bb66bd8",
   "metadata": {},
   "outputs": [
    {
     "data": {
      "text/plain": [
       "75912"
      ]
     },
     "execution_count": 14,
     "metadata": {},
     "output_type": "execute_result"
    }
   ],
   "source": [
    "df.shape[0]"
   ]
  },
  {
   "cell_type": "code",
   "execution_count": 15,
   "id": "f1a1a531",
   "metadata": {},
   "outputs": [
    {
     "name": "stdout",
     "output_type": "stream",
     "text": [
      "73124\n"
     ]
    }
   ],
   "source": [
    "df.dropna(subset=['Q60'], inplace=True)\n",
    "df = df[df['Q60'] < 95]\n",
    "print(df.shape[0])"
   ]
  },
  {
   "cell_type": "code",
   "execution_count": 16,
   "id": "dbf44fe7",
   "metadata": {},
   "outputs": [
    {
     "name": "stdout",
     "output_type": "stream",
     "text": [
      "73124\n",
      "599\n"
     ]
    }
   ],
   "source": [
    "columns_to_drop = df.filter(regex='^WT_').columns\n",
    "df = df.drop(columns=columns_to_drop)\n",
    "print(df.shape[0])\n",
    "print(df.shape[1])"
   ]
  },
  {
   "cell_type": "code",
   "execution_count": 17,
   "id": "9c1dc225",
   "metadata": {},
   "outputs": [],
   "source": [
    "# Define features and target\n",
    "X = df.drop(columns='Q60')\n",
    "y = df['Q60']"
   ]
  },
  {
   "cell_type": "code",
   "execution_count": 18,
   "id": "fd6ce10e",
   "metadata": {},
   "outputs": [
    {
     "name": "stdout",
     "output_type": "stream",
     "text": [
      "[0]\ttrain-rmse:0.71611\ttest-rmse:0.72905\n",
      "[10]\ttrain-rmse:0.53887\ttest-rmse:0.57526\n",
      "[20]\ttrain-rmse:0.52017\ttest-rmse:0.57122\n",
      "[30]\ttrain-rmse:0.50756\ttest-rmse:0.57103\n",
      "[40]\ttrain-rmse:0.49577\ttest-rmse:0.57131\n",
      "[41]\ttrain-rmse:0.49467\ttest-rmse:0.57140\n",
      "RMSE on test set: 0.5713995537510518\n"
     ]
    }
   ],
   "source": [
    "# Split the data into training and testing sets\n",
    "X_train, X_test, y_train, y_test = train_test_split(X, y, test_size=0.2, random_state=42)\n",
    "\n",
    "# Define the parameters for XGBoost\n",
    "params = {\n",
    "    'objective': 'reg:squarederror',  # Use squared error for regression task\n",
    "    'random_state': 42\n",
    "}\n",
    "\n",
    "# Convert training data into DMatrix format for XGBoost\n",
    "dtrain = xgb.DMatrix(X_train, label=y_train)\n",
    "\n",
    "# Convert testing data into DMatrix format for XGBoost\n",
    "dtest = xgb.DMatrix(X_test, label=y_test)\n",
    "\n",
    "# Number of boosting rounds\n",
    "num_boost_round = 100\n",
    "\n",
    "# Train the model and print the progress of boosting rounds\n",
    "evals_result = {}\n",
    "model = xgb.train(params, dtrain, num_boost_round=num_boost_round,\n",
    "                  evals=[(dtrain, 'train'), (dtest, 'test')],\n",
    "                  early_stopping_rounds=10, verbose_eval=10, evals_result=evals_result)\n",
    "\n",
    "# Make predictions on the test set\n",
    "y_pred = model.predict(dtest)\n",
    "\n",
    "# Calculate and print RMSE (Root Mean Squared Error) on the test set\n",
    "rmse = mean_squared_error(y_test, y_pred, squared=False)\n",
    "print(\"RMSE on test set:\", rmse)\n"
   ]
  },
  {
   "cell_type": "code",
   "execution_count": 19,
   "id": "3f99f160",
   "metadata": {},
   "outputs": [
    {
     "name": "stderr",
     "output_type": "stream",
     "text": [
      "Calculating Permutation Importance: 100%|█████| 598/598 [52:44<00:00,  5.29s/it]"
     ]
    },
    {
     "name": "stdout",
     "output_type": "stream",
     "text": [
      "Top 20 Feature Importance:\n",
      "Q3I: 0.0003\n",
      "Q3F: 0.0002\n",
      "NQCV7: 0.0001\n",
      "XQ122A: 0.0001\n",
      "XQ128A2B: 0.0001\n",
      "NQCV3: 0.0001\n",
      "NQ1: 0.0001\n",
      "XQ192: 0.0001\n",
      "Criminal damage and arson: 0.0001\n",
      "XNQ135B: 0.0001\n",
      "XQ122B: 0.0001\n",
      "Q39BA: 0.0001\n",
      "NQ44BC: 0.0001\n",
      "NQ2C: 0.0001\n",
      "SQ132G: 0.0001\n",
      "NQ135A_newC: 0.0001\n",
      "Q132N: 0.0001\n",
      "Q196A: 0.0001\n",
      "NQCV15: 0.0001\n",
      "XQ57B: 0.0001\n"
     ]
    },
    {
     "name": "stderr",
     "output_type": "stream",
     "text": [
      "\n"
     ]
    }
   ],
   "source": [
    "# Compute baseline RMSE\n",
    "baseline_rmse = rmse\n",
    "\n",
    "# Initialize an empty array to store permutation importances\n",
    "perm_importances = np.zeros(X_test.shape[1])\n",
    "\n",
    "# Set random seed for reproducibility\n",
    "np.random.seed(42)\n",
    "\n",
    "# Number of permutations\n",
    "n_permutations = 10\n",
    "\n",
    "# Iterate over each feature\n",
    "for i in tqdm(range(X_test.shape[1]), desc=\"Calculating Permutation Importance\"):\n",
    "    perm_importances_temp = []\n",
    "    for _ in range(n_permutations):\n",
    "        # Make a copy of the test data\n",
    "        X_test_permuted = X_test.copy()\n",
    "        # Permute the values of the current feature\n",
    "        X_test_permuted.iloc[:, i] = np.random.permutation(X_test_permuted.iloc[:, i])\n",
    "        # Make predictions on the permuted data\n",
    "        y_pred_permuted = model.predict(xgb.DMatrix(X_test_permuted))\n",
    "        # Compute RMSE on the permuted data\n",
    "        permuted_rmse = mean_squared_error(y_test, y_pred_permuted, squared=False)\n",
    "        # Compute permutation importance for the current feature\n",
    "        perm_importance = baseline_rmse - permuted_rmse\n",
    "        # Store the permutation importance\n",
    "        perm_importances_temp.append(perm_importance)\n",
    "    # Average the permutation importance over multiple permutations\n",
    "    perm_importances[i] = np.mean(perm_importances_temp)\n",
    "\n",
    "# Sort the permutation importances\n",
    "sorted_idx = np.argsort(perm_importances)[::-1]\n",
    "\n",
    "# Print the top 20 features by permutation importance\n",
    "print(\"Top 20 Feature Importance:\")\n",
    "for i in sorted_idx[:20]:\n",
    "    print(f\"{X.columns[i]}: {perm_importances[i]:.4f}\")\n"
   ]
  },
  {
   "cell_type": "code",
   "execution_count": 20,
   "id": "0e684f7d",
   "metadata": {},
   "outputs": [
    {
     "name": "stdout",
     "output_type": "stream",
     "text": [
      "[0]\ttrain-rmse:0.80827\ttest-rmse:0.81887\n",
      "[10]\ttrain-rmse:0.76999\ttest-rmse:0.79243\n",
      "[20]\ttrain-rmse:0.76312\ttest-rmse:0.79122\n",
      "[30]\ttrain-rmse:0.75804\ttest-rmse:0.79133\n",
      "[31]\ttrain-rmse:0.75766\ttest-rmse:0.79133\n",
      "RMSE on test set with top features: 0.7913281862655467\n"
     ]
    }
   ],
   "source": [
    "# Select the top 20 most important features\n",
    "top_features = X.columns[sorted_idx[:20]]\n",
    "\n",
    "# Create a new DataFrame with only the top features\n",
    "X_train_top = X_train[top_features]\n",
    "X_test_top = X_test[top_features]\n",
    "\n",
    "# Retrain the model using only the top features\n",
    "dtrain_top = xgb.DMatrix(X_train_top, label=y_train)\n",
    "dtest_top = xgb.DMatrix(X_test_top, label=y_test)\n",
    "\n",
    "model_top = xgb.train(params, dtrain_top, num_boost_round=num_boost_round,\n",
    "                      evals=[(dtrain_top, 'train'), (dtest_top, 'test')],\n",
    "                      early_stopping_rounds=10, verbose_eval=10, evals_result=evals_result)\n",
    "\n",
    "# Make predictions on the test set with the top features\n",
    "y_pred_top = model_top.predict(dtest_top)\n",
    "\n",
    "# Calculate and print RMSE on the test set with the top features\n",
    "rmse_top = mean_squared_error(y_test, y_pred_top, squared=False)\n",
    "print(\"RMSE on test set with top features:\", rmse_top)"
   ]
  },
  {
   "cell_type": "code",
   "execution_count": 21,
   "id": "6f6a3776",
   "metadata": {},
   "outputs": [
    {
     "data": {
      "image/png": "[encoded data removed]",
      "text/plain": [
       "<Figure size 1000x600 with 1 Axes>"
      ]
     },
     "metadata": {},
     "output_type": "display_data"
    },
    {
     "name": "stdout",
     "output_type": "stream",
     "text": [
      "                      Feature  Importance\n",
      "8   Criminal damage and arson       538.0\n",
      "0                         Q3I       166.0\n",
      "1                         Q3F       164.0\n",
      "9                     XNQ135B       100.0\n",
      "10                     XQ122B        70.0\n",
      "3                      XQ122A        69.0\n",
      "4                    XQ128A2B        68.0\n",
      "6                         NQ1        56.0\n",
      "12                     NQ44BC        55.0\n",
      "17                      Q196A        51.0\n",
      "14                     SQ132G        46.0\n",
      "5                       NQCV3        44.0\n",
      "11                      Q39BA        42.0\n",
      "15                NQ135A_newC        39.0\n",
      "7                       XQ192        35.0\n",
      "13                       NQ2C        35.0\n",
      "2                       NQCV7        33.0\n",
      "18                     NQCV15        31.0\n",
      "19                      XQ57B        31.0\n",
      "16                      Q132N        28.0\n"
     ]
    }
   ],
   "source": [
    "# Get feature importance scores\n",
    "feature_importance = model_top.get_score(importance_type='weight')\n",
    "\n",
    "# Convert to DataFrame for better visualization\n",
    "importance_df = pd.DataFrame({\n",
    "    'Feature': list(feature_importance.keys()),\n",
    "    'Importance': list(feature_importance.values())\n",
    "})\n",
    "\n",
    "# Sort by importance\n",
    "importance_df = importance_df.sort_values(by='Importance', ascending=False)\n",
    "\n",
    "# Plot feature importance\n",
    "plt.figure(figsize=(10, 6))\n",
    "plt.barh(importance_df['Feature'], importance_df['Importance'])\n",
    "plt.xlabel('Importance')\n",
    "plt.ylabel('Feature')\n",
    "plt.title('Feature Importance with Top 20 Features')\n",
    "plt.gca().invert_yaxis()\n",
    "plt.show()\n",
    "\n",
    "# Print feature importance\n",
    "print(importance_df)"
   ]
  },
  {
   "cell_type": "code",
   "execution_count": null,
   "id": "80543adf",
   "metadata": {},
   "outputs": [],
   "source": []
  }
 ],
 "metadata": {
  "kernelspec": {
   "display_name": "Python 3 (ipykernel)",
   "language": "python",
   "name": "python3"
  },
  "language_info": {
   "codemirror_mode": {
    "name": "ipython",
    "version": 3
   },
   "file_extension": ".py",
   "mimetype": "text/x-python",
   "name": "python",
   "nbconvert_exporter": "python",
   "pygments_lexer": "ipython3",
   "version": "3.10.9"
  }
 },
 "nbformat": 4,
 "nbformat_minor": 5
}
