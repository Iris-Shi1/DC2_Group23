{
 "cells": [
  {
   "cell_type": "code",
   "id": "initial_id",
   "metadata": {
    "collapsed": true,
    "ExecuteTime": {
     "end_time": "2024-05-08T09:08:34.101704Z",
     "start_time": "2024-05-08T09:08:33.348109Z"
    }
   },
   "source": [
    "import pandas as pd\n",
    "\n",
    "# Read the CSV file into a DataFrame\n",
    "df = pd.read_csv('project_data/PAS_T&Cdashboard_to Q3 23-24.csv')\n",
    "\n",
    "# Replace one variation with the other\n",
    "df['Borough'] = df['Borough'].replace('Richmond upon Thames', 'Richmond Upon Thames')\n",
    "\n",
    "# Group the data by 'Borough'\n",
    "df_borough = df.groupby('Borough')\n",
    "\n",
    "# Perform an aggregation, for example, count the rows in each group\n",
    "borough_counts = df_borough.size()\n",
    "\n",
    "# Display the result\n",
    "print(borough_counts)\n"
   ],
   "outputs": [
    {
     "name": "stderr",
     "output_type": "stream",
     "text": [
      "C:\\Users\\ambra\\AppData\\Local\\Temp\\ipykernel_23432\\3377999708.py:4: DtypeWarning: Columns (0,1,2,3,8) have mixed types. Specify dtype option on import or set low_memory=False.\n",
      "  df = pd.read_csv('project_data/PAS_T&Cdashboard_to Q3 23-24.csv')\n"
     ]
    },
    {
     "name": "stdout",
     "output_type": "stream",
     "text": [
      "Borough\n",
      "Barking and Dagenham      291\n",
      "Barnet                    291\n",
      "Bexley                    291\n",
      "Brent                     291\n",
      "Bromley                   291\n",
      "Camden                    291\n",
      "City of Westminster       291\n",
      "Croydon                   291\n",
      "Ealing                    291\n",
      "Enfield                   291\n",
      "Greenwich                 291\n",
      "Hackney                   291\n",
      "Hammersmith and Fulham    291\n",
      "Haringey                  291\n",
      "Harrow                    291\n",
      "Havering                  291\n",
      "Hillingdon                291\n",
      "Hounslow                  291\n",
      "Islington                 291\n",
      "Kensington and Chelsea    291\n",
      "Kingston upon Thames      291\n",
      "Lambeth                   291\n",
      "Lewisham                  291\n",
      "Merton                    291\n",
      "Newham                    291\n",
      "Redbridge                 291\n",
      "Richmond Upon Thames      291\n",
      "Southwark                 291\n",
      "Sutton                    291\n",
      "Tower Hamlets             291\n",
      "Waltham Forest            291\n",
      "Wandsworth                291\n",
      "dtype: int64\n"
     ]
    }
   ],
   "execution_count": 7
  },
  {
   "metadata": {
    "ExecuteTime": {
     "end_time": "2024-05-08T09:22:02.856850Z",
     "start_time": "2024-05-08T09:22:02.743362Z"
    }
   },
   "cell_type": "code",
   "source": [
    "import pandas as pd\n",
    "\n",
    "# Read the CSV file into a pandas DataFrame\n",
    "df_borough = pd.read_csv('project_data/london_boroughs.csv', low_memory=False)\n",
    " \n",
    "df_borough"
   ],
   "id": "bedef1ea67ed3c15",
   "outputs": [
    {
     "data": {
      "text/plain": [
       "                  borough         x         y\n",
       "0      Barking & Dagenham  543522.5  184862.5\n",
       "1      Barking & Dagenham  543577.6  184846.7\n",
       "2      Barking & Dagenham  543577.1  184837.7\n",
       "3      Barking & Dagenham  543595.5  184832.8\n",
       "4      Barking & Dagenham  543601.7  184831.2\n",
       "...                   ...       ...       ...\n",
       "45336         Westminster  524667.2  183084.9\n",
       "45337         Westminster  524699.1  183082.4\n",
       "45338         Westminster  524722.2  183082.4\n",
       "45339         Westminster  524735.5  183084.5\n",
       "45340         Westminster  524741.1  183085.3\n",
       "\n",
       "[45341 rows x 3 columns]"
      ],
      "text/html": [
       "<div>\n",
       "<style scoped>\n",
       "    .dataframe tbody tr th:only-of-type {\n",
       "        vertical-align: middle;\n",
       "    }\n",
       "\n",
       "    .dataframe tbody tr th {\n",
       "        vertical-align: top;\n",
       "    }\n",
       "\n",
       "    .dataframe thead th {\n",
       "        text-align: right;\n",
       "    }\n",
       "</style>\n",
       "<table border=\"1\" class=\"dataframe\">\n",
       "  <thead>\n",
       "    <tr style=\"text-align: right;\">\n",
       "      <th></th>\n",
       "      <th>borough</th>\n",
       "      <th>x</th>\n",
       "      <th>y</th>\n",
       "    </tr>\n",
       "  </thead>\n",
       "  <tbody>\n",
       "    <tr>\n",
       "      <th>0</th>\n",
       "      <td>Barking &amp; Dagenham</td>\n",
       "      <td>543522.5</td>\n",
       "      <td>184862.5</td>\n",
       "    </tr>\n",
       "    <tr>\n",
       "      <th>1</th>\n",
       "      <td>Barking &amp; Dagenham</td>\n",
       "      <td>543577.6</td>\n",
       "      <td>184846.7</td>\n",
       "    </tr>\n",
       "    <tr>\n",
       "      <th>2</th>\n",
       "      <td>Barking &amp; Dagenham</td>\n",
       "      <td>543577.1</td>\n",
       "      <td>184837.7</td>\n",
       "    </tr>\n",
       "    <tr>\n",
       "      <th>3</th>\n",
       "      <td>Barking &amp; Dagenham</td>\n",
       "      <td>543595.5</td>\n",
       "      <td>184832.8</td>\n",
       "    </tr>\n",
       "    <tr>\n",
       "      <th>4</th>\n",
       "      <td>Barking &amp; Dagenham</td>\n",
       "      <td>543601.7</td>\n",
       "      <td>184831.2</td>\n",
       "    </tr>\n",
       "    <tr>\n",
       "      <th>...</th>\n",
       "      <td>...</td>\n",
       "      <td>...</td>\n",
       "      <td>...</td>\n",
       "    </tr>\n",
       "    <tr>\n",
       "      <th>45336</th>\n",
       "      <td>Westminster</td>\n",
       "      <td>524667.2</td>\n",
       "      <td>183084.9</td>\n",
       "    </tr>\n",
       "    <tr>\n",
       "      <th>45337</th>\n",
       "      <td>Westminster</td>\n",
       "      <td>524699.1</td>\n",
       "      <td>183082.4</td>\n",
       "    </tr>\n",
       "    <tr>\n",
       "      <th>45338</th>\n",
       "      <td>Westminster</td>\n",
       "      <td>524722.2</td>\n",
       "      <td>183082.4</td>\n",
       "    </tr>\n",
       "    <tr>\n",
       "      <th>45339</th>\n",
       "      <td>Westminster</td>\n",
       "      <td>524735.5</td>\n",
       "      <td>183084.5</td>\n",
       "    </tr>\n",
       "    <tr>\n",
       "      <th>45340</th>\n",
       "      <td>Westminster</td>\n",
       "      <td>524741.1</td>\n",
       "      <td>183085.3</td>\n",
       "    </tr>\n",
       "  </tbody>\n",
       "</table>\n",
       "<p>45341 rows × 3 columns</p>\n",
       "</div>"
      ]
     },
     "execution_count": 8,
     "metadata": {},
     "output_type": "execute_result"
    }
   ],
   "execution_count": 8
  },
  {
   "metadata": {
    "jupyter": {
     "is_executing": true
    },
    "ExecuteTime": {
     "start_time": "2024-05-08T09:31:14.515036Z"
    }
   },
   "cell_type": "code",
   "source": [
    "import pandas as pd\n",
    "from shapely.geometry import Point, Polygon\n",
    "from geopandas import GeoDataFrame\n",
    "\n",
    "# Read London boroughs data\n",
    "boroughs_df = pd.read_csv('project_data/london_boroughs.csv',low_memory= False)\n",
    "\n",
    "# Convert the boroughs DataFrame to a GeoDataFrame\n",
    "geometry = [Point(xy) for xy in zip(boroughs_df['x'], boroughs_df['y'])]\n",
    "boroughs_gdf = GeoDataFrame(boroughs_df, geometry=geometry)\n",
    "\n",
    "# Read combined crime data\n",
    "crime_df = pd.read_csv('project_data/combined_crime.csv')\n",
    "\n",
    "# Define a function to find the borough for given coordinates\n",
    "def find_borough(latitude, longitude):\n",
    "    point = Point(longitude, latitude)\n",
    "    for idx, row in boroughs_gdf.iterrows():\n",
    "        if point.within(row['geometry']):\n",
    "            return row['borough']\n",
    "    return None\n",
    "\n",
    "# Apply the function to create a new column with borough information\n",
    "crime_df['borough'] = crime_df.apply(lambda row: find_borough(row['Latitude'], row['Longitude']), axis=1)\n",
    "\n",
    "# Save the updated DataFrame with the new column\n",
    "crime_df.to_csv('project_data/combined_crime_with_borough.csv', index=False)\n"
   ],
   "id": "2a5317f0ca240bc2",
   "outputs": [
    {
     "name": "stderr",
     "output_type": "stream",
     "text": [
      "C:\\Users\\ambra\\AppData\\Local\\Temp\\ipykernel_23432\\969080638.py:13: DtypeWarning: Columns (0,4,5,10,11) have mixed types. Specify dtype option on import or set low_memory=False.\n",
      "  crime_df = pd.read_csv('project_data/combined_crime.csv')\n"
     ]
    },
    {
     "ename": "KeyboardInterrupt",
     "evalue": "",
     "output_type": "error",
     "traceback": [
      "\u001B[1;31m---------------------------------------------------------------------------\u001B[0m",
      "\u001B[1;31mKeyboardInterrupt\u001B[0m                         Traceback (most recent call last)",
      "Cell \u001B[1;32mIn[10], line 24\u001B[0m\n\u001B[0;32m     21\u001B[0m     \u001B[38;5;28;01mreturn\u001B[39;00m \u001B[38;5;28;01mNone\u001B[39;00m\n\u001B[0;32m     23\u001B[0m \u001B[38;5;66;03m# Apply the function to create a new column with borough information\u001B[39;00m\n\u001B[1;32m---> 24\u001B[0m crime_df[\u001B[38;5;124m'\u001B[39m\u001B[38;5;124mborough\u001B[39m\u001B[38;5;124m'\u001B[39m] \u001B[38;5;241m=\u001B[39m \u001B[43mcrime_df\u001B[49m\u001B[38;5;241;43m.\u001B[39;49m\u001B[43mapply\u001B[49m\u001B[43m(\u001B[49m\u001B[38;5;28;43;01mlambda\u001B[39;49;00m\u001B[43m \u001B[49m\u001B[43mrow\u001B[49m\u001B[43m:\u001B[49m\u001B[43m \u001B[49m\u001B[43mfind_borough\u001B[49m\u001B[43m(\u001B[49m\u001B[43mrow\u001B[49m\u001B[43m[\u001B[49m\u001B[38;5;124;43m'\u001B[39;49m\u001B[38;5;124;43mLatitude\u001B[39;49m\u001B[38;5;124;43m'\u001B[39;49m\u001B[43m]\u001B[49m\u001B[43m,\u001B[49m\u001B[43m \u001B[49m\u001B[43mrow\u001B[49m\u001B[43m[\u001B[49m\u001B[38;5;124;43m'\u001B[39;49m\u001B[38;5;124;43mLongitude\u001B[39;49m\u001B[38;5;124;43m'\u001B[39;49m\u001B[43m]\u001B[49m\u001B[43m)\u001B[49m\u001B[43m,\u001B[49m\u001B[43m \u001B[49m\u001B[43maxis\u001B[49m\u001B[38;5;241;43m=\u001B[39;49m\u001B[38;5;241;43m1\u001B[39;49m\u001B[43m)\u001B[49m\n\u001B[0;32m     26\u001B[0m \u001B[38;5;66;03m# Save the updated DataFrame with the new column\u001B[39;00m\n\u001B[0;32m     27\u001B[0m crime_df\u001B[38;5;241m.\u001B[39mto_csv(\u001B[38;5;124m'\u001B[39m\u001B[38;5;124mproject_data/combined_crime_with_borough.csv\u001B[39m\u001B[38;5;124m'\u001B[39m, index\u001B[38;5;241m=\u001B[39m\u001B[38;5;28;01mFalse\u001B[39;00m)\n",
      "File \u001B[1;32m~\\PycharmProjects\\DC2_Group23\\.venv\\Lib\\site-packages\\pandas\\core\\frame.py:10374\u001B[0m, in \u001B[0;36mDataFrame.apply\u001B[1;34m(self, func, axis, raw, result_type, args, by_row, engine, engine_kwargs, **kwargs)\u001B[0m\n\u001B[0;32m  10360\u001B[0m \u001B[38;5;28;01mfrom\u001B[39;00m \u001B[38;5;21;01mpandas\u001B[39;00m\u001B[38;5;21;01m.\u001B[39;00m\u001B[38;5;21;01mcore\u001B[39;00m\u001B[38;5;21;01m.\u001B[39;00m\u001B[38;5;21;01mapply\u001B[39;00m \u001B[38;5;28;01mimport\u001B[39;00m frame_apply\n\u001B[0;32m  10362\u001B[0m op \u001B[38;5;241m=\u001B[39m frame_apply(\n\u001B[0;32m  10363\u001B[0m     \u001B[38;5;28mself\u001B[39m,\n\u001B[0;32m  10364\u001B[0m     func\u001B[38;5;241m=\u001B[39mfunc,\n\u001B[1;32m   (...)\u001B[0m\n\u001B[0;32m  10372\u001B[0m     kwargs\u001B[38;5;241m=\u001B[39mkwargs,\n\u001B[0;32m  10373\u001B[0m )\n\u001B[1;32m> 10374\u001B[0m \u001B[38;5;28;01mreturn\u001B[39;00m \u001B[43mop\u001B[49m\u001B[38;5;241;43m.\u001B[39;49m\u001B[43mapply\u001B[49m\u001B[43m(\u001B[49m\u001B[43m)\u001B[49m\u001B[38;5;241m.\u001B[39m__finalize__(\u001B[38;5;28mself\u001B[39m, method\u001B[38;5;241m=\u001B[39m\u001B[38;5;124m\"\u001B[39m\u001B[38;5;124mapply\u001B[39m\u001B[38;5;124m\"\u001B[39m)\n",
      "File \u001B[1;32m~\\PycharmProjects\\DC2_Group23\\.venv\\Lib\\site-packages\\pandas\\core\\apply.py:916\u001B[0m, in \u001B[0;36mFrameApply.apply\u001B[1;34m(self)\u001B[0m\n\u001B[0;32m    913\u001B[0m \u001B[38;5;28;01melif\u001B[39;00m \u001B[38;5;28mself\u001B[39m\u001B[38;5;241m.\u001B[39mraw:\n\u001B[0;32m    914\u001B[0m     \u001B[38;5;28;01mreturn\u001B[39;00m \u001B[38;5;28mself\u001B[39m\u001B[38;5;241m.\u001B[39mapply_raw(engine\u001B[38;5;241m=\u001B[39m\u001B[38;5;28mself\u001B[39m\u001B[38;5;241m.\u001B[39mengine, engine_kwargs\u001B[38;5;241m=\u001B[39m\u001B[38;5;28mself\u001B[39m\u001B[38;5;241m.\u001B[39mengine_kwargs)\n\u001B[1;32m--> 916\u001B[0m \u001B[38;5;28;01mreturn\u001B[39;00m \u001B[38;5;28;43mself\u001B[39;49m\u001B[38;5;241;43m.\u001B[39;49m\u001B[43mapply_standard\u001B[49m\u001B[43m(\u001B[49m\u001B[43m)\u001B[49m\n",
      "File \u001B[1;32m~\\PycharmProjects\\DC2_Group23\\.venv\\Lib\\site-packages\\pandas\\core\\apply.py:1063\u001B[0m, in \u001B[0;36mFrameApply.apply_standard\u001B[1;34m(self)\u001B[0m\n\u001B[0;32m   1061\u001B[0m \u001B[38;5;28;01mdef\u001B[39;00m \u001B[38;5;21mapply_standard\u001B[39m(\u001B[38;5;28mself\u001B[39m):\n\u001B[0;32m   1062\u001B[0m     \u001B[38;5;28;01mif\u001B[39;00m \u001B[38;5;28mself\u001B[39m\u001B[38;5;241m.\u001B[39mengine \u001B[38;5;241m==\u001B[39m \u001B[38;5;124m\"\u001B[39m\u001B[38;5;124mpython\u001B[39m\u001B[38;5;124m\"\u001B[39m:\n\u001B[1;32m-> 1063\u001B[0m         results, res_index \u001B[38;5;241m=\u001B[39m \u001B[38;5;28;43mself\u001B[39;49m\u001B[38;5;241;43m.\u001B[39;49m\u001B[43mapply_series_generator\u001B[49m\u001B[43m(\u001B[49m\u001B[43m)\u001B[49m\n\u001B[0;32m   1064\u001B[0m     \u001B[38;5;28;01melse\u001B[39;00m:\n\u001B[0;32m   1065\u001B[0m         results, res_index \u001B[38;5;241m=\u001B[39m \u001B[38;5;28mself\u001B[39m\u001B[38;5;241m.\u001B[39mapply_series_numba()\n",
      "File \u001B[1;32m~\\PycharmProjects\\DC2_Group23\\.venv\\Lib\\site-packages\\pandas\\core\\apply.py:1081\u001B[0m, in \u001B[0;36mFrameApply.apply_series_generator\u001B[1;34m(self)\u001B[0m\n\u001B[0;32m   1078\u001B[0m \u001B[38;5;28;01mwith\u001B[39;00m option_context(\u001B[38;5;124m\"\u001B[39m\u001B[38;5;124mmode.chained_assignment\u001B[39m\u001B[38;5;124m\"\u001B[39m, \u001B[38;5;28;01mNone\u001B[39;00m):\n\u001B[0;32m   1079\u001B[0m     \u001B[38;5;28;01mfor\u001B[39;00m i, v \u001B[38;5;129;01min\u001B[39;00m \u001B[38;5;28menumerate\u001B[39m(series_gen):\n\u001B[0;32m   1080\u001B[0m         \u001B[38;5;66;03m# ignore SettingWithCopy here in case the user mutates\u001B[39;00m\n\u001B[1;32m-> 1081\u001B[0m         results[i] \u001B[38;5;241m=\u001B[39m \u001B[38;5;28;43mself\u001B[39;49m\u001B[38;5;241;43m.\u001B[39;49m\u001B[43mfunc\u001B[49m\u001B[43m(\u001B[49m\u001B[43mv\u001B[49m\u001B[43m,\u001B[49m\u001B[43m \u001B[49m\u001B[38;5;241;43m*\u001B[39;49m\u001B[38;5;28;43mself\u001B[39;49m\u001B[38;5;241;43m.\u001B[39;49m\u001B[43margs\u001B[49m\u001B[43m,\u001B[49m\u001B[43m \u001B[49m\u001B[38;5;241;43m*\u001B[39;49m\u001B[38;5;241;43m*\u001B[39;49m\u001B[38;5;28;43mself\u001B[39;49m\u001B[38;5;241;43m.\u001B[39;49m\u001B[43mkwargs\u001B[49m\u001B[43m)\u001B[49m\n\u001B[0;32m   1082\u001B[0m         \u001B[38;5;28;01mif\u001B[39;00m \u001B[38;5;28misinstance\u001B[39m(results[i], ABCSeries):\n\u001B[0;32m   1083\u001B[0m             \u001B[38;5;66;03m# If we have a view on v, we need to make a copy because\u001B[39;00m\n\u001B[0;32m   1084\u001B[0m             \u001B[38;5;66;03m#  series_generator will swap out the underlying data\u001B[39;00m\n\u001B[0;32m   1085\u001B[0m             results[i] \u001B[38;5;241m=\u001B[39m results[i]\u001B[38;5;241m.\u001B[39mcopy(deep\u001B[38;5;241m=\u001B[39m\u001B[38;5;28;01mFalse\u001B[39;00m)\n",
      "Cell \u001B[1;32mIn[10], line 24\u001B[0m, in \u001B[0;36m<lambda>\u001B[1;34m(row)\u001B[0m\n\u001B[0;32m     21\u001B[0m     \u001B[38;5;28;01mreturn\u001B[39;00m \u001B[38;5;28;01mNone\u001B[39;00m\n\u001B[0;32m     23\u001B[0m \u001B[38;5;66;03m# Apply the function to create a new column with borough information\u001B[39;00m\n\u001B[1;32m---> 24\u001B[0m crime_df[\u001B[38;5;124m'\u001B[39m\u001B[38;5;124mborough\u001B[39m\u001B[38;5;124m'\u001B[39m] \u001B[38;5;241m=\u001B[39m crime_df\u001B[38;5;241m.\u001B[39mapply(\u001B[38;5;28;01mlambda\u001B[39;00m row: \u001B[43mfind_borough\u001B[49m\u001B[43m(\u001B[49m\u001B[43mrow\u001B[49m\u001B[43m[\u001B[49m\u001B[38;5;124;43m'\u001B[39;49m\u001B[38;5;124;43mLatitude\u001B[39;49m\u001B[38;5;124;43m'\u001B[39;49m\u001B[43m]\u001B[49m\u001B[43m,\u001B[49m\u001B[43m \u001B[49m\u001B[43mrow\u001B[49m\u001B[43m[\u001B[49m\u001B[38;5;124;43m'\u001B[39;49m\u001B[38;5;124;43mLongitude\u001B[39;49m\u001B[38;5;124;43m'\u001B[39;49m\u001B[43m]\u001B[49m\u001B[43m)\u001B[49m, axis\u001B[38;5;241m=\u001B[39m\u001B[38;5;241m1\u001B[39m)\n\u001B[0;32m     26\u001B[0m \u001B[38;5;66;03m# Save the updated DataFrame with the new column\u001B[39;00m\n\u001B[0;32m     27\u001B[0m crime_df\u001B[38;5;241m.\u001B[39mto_csv(\u001B[38;5;124m'\u001B[39m\u001B[38;5;124mproject_data/combined_crime_with_borough.csv\u001B[39m\u001B[38;5;124m'\u001B[39m, index\u001B[38;5;241m=\u001B[39m\u001B[38;5;28;01mFalse\u001B[39;00m)\n",
      "Cell \u001B[1;32mIn[10], line 19\u001B[0m, in \u001B[0;36mfind_borough\u001B[1;34m(latitude, longitude)\u001B[0m\n\u001B[0;32m     17\u001B[0m point \u001B[38;5;241m=\u001B[39m Point(longitude, latitude)\n\u001B[0;32m     18\u001B[0m \u001B[38;5;28;01mfor\u001B[39;00m idx, row \u001B[38;5;129;01min\u001B[39;00m boroughs_gdf\u001B[38;5;241m.\u001B[39miterrows():\n\u001B[1;32m---> 19\u001B[0m     \u001B[38;5;28;01mif\u001B[39;00m \u001B[43mpoint\u001B[49m\u001B[38;5;241;43m.\u001B[39;49m\u001B[43mwithin\u001B[49m\u001B[43m(\u001B[49m\u001B[43mrow\u001B[49m\u001B[43m[\u001B[49m\u001B[38;5;124;43m'\u001B[39;49m\u001B[38;5;124;43mgeometry\u001B[39;49m\u001B[38;5;124;43m'\u001B[39;49m\u001B[43m]\u001B[49m\u001B[43m)\u001B[49m:\n\u001B[0;32m     20\u001B[0m         \u001B[38;5;28;01mreturn\u001B[39;00m row[\u001B[38;5;124m'\u001B[39m\u001B[38;5;124mborough\u001B[39m\u001B[38;5;124m'\u001B[39m]\n\u001B[0;32m     21\u001B[0m \u001B[38;5;28;01mreturn\u001B[39;00m \u001B[38;5;28;01mNone\u001B[39;00m\n",
      "File \u001B[1;32m~\\PycharmProjects\\DC2_Group23\\.venv\\Lib\\site-packages\\shapely\\geometry\\base.py:731\u001B[0m, in \u001B[0;36mBaseGeometry.within\u001B[1;34m(self, other)\u001B[0m\n\u001B[0;32m    729\u001B[0m \u001B[38;5;28;01mdef\u001B[39;00m \u001B[38;5;21mwithin\u001B[39m(\u001B[38;5;28mself\u001B[39m, other):\n\u001B[0;32m    730\u001B[0m \u001B[38;5;250m    \u001B[39m\u001B[38;5;124;03m\"\"\"Returns True if geometry is within the other, else False\"\"\"\u001B[39;00m\n\u001B[1;32m--> 731\u001B[0m     \u001B[38;5;28;01mreturn\u001B[39;00m _maybe_unpack(\u001B[43mshapely\u001B[49m\u001B[38;5;241;43m.\u001B[39;49m\u001B[43mwithin\u001B[49m\u001B[43m(\u001B[49m\u001B[38;5;28;43mself\u001B[39;49m\u001B[43m,\u001B[49m\u001B[43m \u001B[49m\u001B[43mother\u001B[49m\u001B[43m)\u001B[49m)\n",
      "File \u001B[1;32m~\\PycharmProjects\\DC2_Group23\\.venv\\Lib\\site-packages\\shapely\\decorators.py:77\u001B[0m, in \u001B[0;36mmultithreading_enabled.<locals>.wrapped\u001B[1;34m(*args, **kwargs)\u001B[0m\n\u001B[0;32m     75\u001B[0m     \u001B[38;5;28;01mfor\u001B[39;00m arr \u001B[38;5;129;01min\u001B[39;00m array_args:\n\u001B[0;32m     76\u001B[0m         arr\u001B[38;5;241m.\u001B[39mflags\u001B[38;5;241m.\u001B[39mwriteable \u001B[38;5;241m=\u001B[39m \u001B[38;5;28;01mFalse\u001B[39;00m\n\u001B[1;32m---> 77\u001B[0m     \u001B[38;5;28;01mreturn\u001B[39;00m \u001B[43mfunc\u001B[49m\u001B[43m(\u001B[49m\u001B[38;5;241;43m*\u001B[39;49m\u001B[43margs\u001B[49m\u001B[43m,\u001B[49m\u001B[43m \u001B[49m\u001B[38;5;241;43m*\u001B[39;49m\u001B[38;5;241;43m*\u001B[39;49m\u001B[43mkwargs\u001B[49m\u001B[43m)\u001B[49m\n\u001B[0;32m     78\u001B[0m \u001B[38;5;28;01mfinally\u001B[39;00m:\n\u001B[0;32m     79\u001B[0m     \u001B[38;5;28;01mfor\u001B[39;00m arr, old_flag \u001B[38;5;129;01min\u001B[39;00m \u001B[38;5;28mzip\u001B[39m(array_args, old_flags):\n",
      "File \u001B[1;32m~\\PycharmProjects\\DC2_Group23\\.venv\\Lib\\site-packages\\shapely\\predicates.py:923\u001B[0m, in \u001B[0;36mwithin\u001B[1;34m(a, b, **kwargs)\u001B[0m\n\u001B[0;32m    875\u001B[0m \u001B[38;5;129m@multithreading_enabled\u001B[39m\n\u001B[0;32m    876\u001B[0m \u001B[38;5;28;01mdef\u001B[39;00m \u001B[38;5;21mwithin\u001B[39m(a, b, \u001B[38;5;241m*\u001B[39m\u001B[38;5;241m*\u001B[39mkwargs):\n\u001B[0;32m    877\u001B[0m \u001B[38;5;250m    \u001B[39m\u001B[38;5;124;03m\"\"\"Returns True if geometry A is completely inside geometry B.\u001B[39;00m\n\u001B[0;32m    878\u001B[0m \n\u001B[0;32m    879\u001B[0m \u001B[38;5;124;03m    A is within B if no points of A lie in the exterior of B and at least one\u001B[39;00m\n\u001B[1;32m   (...)\u001B[0m\n\u001B[0;32m    921\u001B[0m \u001B[38;5;124;03m    False\u001B[39;00m\n\u001B[0;32m    922\u001B[0m \u001B[38;5;124;03m    \"\"\"\u001B[39;00m\n\u001B[1;32m--> 923\u001B[0m     \u001B[38;5;28;01mreturn\u001B[39;00m \u001B[43mlib\u001B[49m\u001B[38;5;241;43m.\u001B[39;49m\u001B[43mwithin\u001B[49m\u001B[43m(\u001B[49m\u001B[43ma\u001B[49m\u001B[43m,\u001B[49m\u001B[43m \u001B[49m\u001B[43mb\u001B[49m\u001B[43m,\u001B[49m\u001B[43m \u001B[49m\u001B[38;5;241;43m*\u001B[39;49m\u001B[38;5;241;43m*\u001B[39;49m\u001B[43mkwargs\u001B[49m\u001B[43m)\u001B[49m\n",
      "\u001B[1;31mKeyboardInterrupt\u001B[0m: "
     ]
    }
   ],
   "execution_count": null
  },
  {
   "metadata": {
    "jupyter": {
     "is_executing": true
    },
    "ExecuteTime": {
     "start_time": "2024-05-08T10:16:32.660127Z"
    }
   },
   "cell_type": "code",
   "source": [
    "import pandas as pd\n",
    "from shapely.geometry import Point\n",
    "from geopandas import GeoDataFrame\n",
    "from tqdm import tqdm  # Import tqdm for progress bar\n",
    "\n",
    "# Read London boroughs data\n",
    "boroughs_df = pd.read_csv('project_data/london_boroughs.csv', low_memory=False)\n",
    "\n",
    "# Convert the boroughs DataFrame to a GeoDataFrame\n",
    "geometry = [Point(xy) for xy in zip(boroughs_df['x'], boroughs_df['y'])]\n",
    "boroughs_gdf = GeoDataFrame(boroughs_df, geometry=geometry)\n",
    "\n",
    "# Read combined crime data\n",
    "crime_df = pd.read_csv('project_data/combined_crime.csv')\n",
    "\n",
    "# Define a function to find the borough for given coordinates\n",
    "def find_borough(latitude, longitude):\n",
    "    point = Point(longitude, latitude)\n",
    "    for idx, row in boroughs_gdf.iterrows():\n",
    "        if point.within(row['geometry']):\n",
    "            return row['borough']\n",
    "    return None\n",
    "\n",
    "# Apply the function to create a new column with borough information\n",
    "# Use tqdm to display progress\n",
    "tqdm.pandas()  # Enable tqdm for pandas\n",
    "crime_df['borough'] = crime_df.progress_apply(lambda row: find_borough(row['Latitude'], row['Longitude']), axis=1)\n",
    "\n",
    "# Save the updated DataFrame with the new column\n",
    "crime_df.to_csv('project_data/combined_crime_with_borough.csv', index=False)\n"
   ],
   "id": "9ea38ace2f9f1eca",
   "outputs": [],
   "execution_count": null
  },
  {
   "metadata": {},
   "cell_type": "code",
   "outputs": [],
   "execution_count": null,
   "source": "",
   "id": "456dcdbc8a449493"
  }
 ],
 "metadata": {
  "kernelspec": {
   "display_name": "Python 3",
   "language": "python",
   "name": "python3"
  },
  "language_info": {
   "codemirror_mode": {
    "name": "ipython",
    "version": 2
   },
   "file_extension": ".py",
   "mimetype": "text/x-python",
   "name": "python",
   "nbconvert_exporter": "python",
   "pygments_lexer": "ipython2",
   "version": "2.7.6"
  }
 },
 "nbformat": 4,
 "nbformat_minor": 5
}
